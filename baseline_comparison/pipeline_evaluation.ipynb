{
 "cells": [
  {
   "cell_type": "code",
   "execution_count": 1,
   "metadata": {},
   "outputs": [],
   "source": [
    "import sys\n",
    "sys.path.append('topicx/')\n",
    "\n",
    "from baselines.cetopictm import CETopicTM\n",
    "from utils import prepare_dataset\n",
    "import baseline_utils\n",
    "from sklearn.feature_extraction.text import CountVectorizer\n",
    "from octis.dataset.dataset import Dataset"
   ]
  },
  {
   "cell_type": "code",
   "execution_count": 6,
   "metadata": {},
   "outputs": [],
   "source": [
    "dataset = Dataset()\n",
    "\n",
    "dataset.load_custom_dataset_from_folder(\"resources_octis/20news\")"
   ]
  },
  {
   "cell_type": "code",
   "execution_count": 7,
   "metadata": {},
   "outputs": [],
   "source": [
    "# Define dataset\n",
    "#dataset = Dataset()\n",
    "#dataset.fetch_dataset(\"BBC_News\")\n",
    "#token_lists = dataset.get_corpus()\n",
    "#sentences = [' '.join(text_list) for text_list in token_lists]\n",
    "\n",
    " "
   ]
  },
  {
   "cell_type": "code",
   "execution_count": 8,
   "metadata": {},
   "outputs": [],
   "source": [
    "# Get dataset from Raymond's code\n",
    "\n",
    "#20News Groups\n",
    "\n",
    "#text_file = '../resources/20news_unprep.txt'\n",
    "#bow_file = '../resources/20news_prep.txt'\n",
    "#text_for_contextual, text_for_bow = baseline_utils.load_dataset(text_file, bow_file)\n",
    "#bow_corpus = [doc.split() for doc in text_for_bow]"
   ]
  },
  {
   "cell_type": "code",
   "execution_count": 9,
   "metadata": {},
   "outputs": [
    {
     "name": "stdout",
     "output_type": "stream",
     "text": [
      "Random seed number: 225\n",
      "Initialize CETopicTM with num_topics=20, embedding=/mnt/datasets/SBERT/all-mpnet-base-v2\n"
     ]
    }
   ],
   "source": [
    "import random \n",
    "\n",
    "random_seed_number = random.randint(0, 1000)\n",
    "print('Random seed number: {}'.format(random_seed_number))\n",
    "\n",
    "\n",
    "tm = CETopicTM(dataset=dataset, \n",
    "               topic_model='cetopic', \n",
    "               num_topics=20, \n",
    "               dim_size=50,#In the paper the authors say 'we reduce the dimensionality of sentence embedding to 50 usign UMAP' #default 5 \n",
    "               word_select_method='tfidf_idfi', #best word selection method according to their paper\n",
    "               embedding='/mnt/datasets/SBERT/all-mpnet-base-v2',\n",
    "               seed=random_seed_number)  #sentence-transformers/all-mpnet-base-v2', #embedding='princeton-nlp/unsup-simcse-bert-base-uncased',  #Default in Raymond's evaluation is: all-mpnet-base-v2 #TODO: I think we must use a different embedding)"
   ]
  },
  {
   "cell_type": "code",
   "execution_count": 10,
   "metadata": {},
   "outputs": [
    {
     "name": "stdout",
     "output_type": "stream",
     "text": [
      "====== Using TFIDF_IDFi ======\n"
     ]
    }
   ],
   "source": [
    "tm.train()\n",
    "\n"
   ]
  },
  {
   "cell_type": "code",
   "execution_count": 11,
   "metadata": {},
   "outputs": [
    {
     "name": "stderr",
     "output_type": "stream",
     "text": [
      "03/13/2023 19:38:40 - INFO - gensim.corpora.dictionary -   adding document #0 to Dictionary<0 unique tokens: []>\n",
      "03/13/2023 19:38:40 - INFO - gensim.corpora.dictionary -   built Dictionary<2000 unique tokens: ['1st', '2nd', '3rd', 'ability', 'able']...> from 20 documents (total 909509 corpus positions)\n",
      "03/13/2023 19:38:40 - INFO - gensim.utils -   Dictionary lifecycle event {'msg': \"built Dictionary<2000 unique tokens: ['1st', '2nd', '3rd', 'ability', 'able']...> from 20 documents (total 909509 corpus positions)\", 'datetime': '2023-03-13T19:38:40.394595', 'gensim': '4.2.0', 'python': '3.8.10 (default, Jun  2 2021, 10:49:15) \\n[GCC 9.4.0]', 'platform': 'Linux-5.4.0-84-generic-x86_64-with-glibc2.29', 'event': 'created'}\n",
      "03/13/2023 19:38:40 - INFO - gensim.topic_coherence.probability_estimation -   using ParallelWordOccurrenceAccumulator<processes=7, batch_size=64> to estimate probabilities from sliding windows\n",
      "03/13/2023 19:38:40 - INFO - gensim.topic_coherence.text_analysis -   1 batches submitted to accumulate stats from 64 documents (907329 virtual)\n",
      "03/13/2023 19:38:40 - INFO - gensim.topic_coherence.text_analysis -   serializing accumulator to return to master...\n",
      "03/13/2023 19:38:40 - INFO - gensim.topic_coherence.text_analysis -   serializing accumulator to return to master...\n",
      "03/13/2023 19:38:40 - INFO - gensim.topic_coherence.text_analysis -   serializing accumulator to return to master...\n",
      "03/13/2023 19:38:40 - INFO - gensim.topic_coherence.text_analysis -   serializing accumulator to return to master...\n",
      "03/13/2023 19:38:40 - INFO - gensim.topic_coherence.text_analysis -   serializing accumulator to return to master...\n",
      "03/13/2023 19:38:40 - INFO - gensim.topic_coherence.text_analysis -   serializing accumulator to return to master...\n",
      "03/13/2023 19:38:40 - INFO - gensim.topic_coherence.text_analysis -   accumulator serialized\n",
      "03/13/2023 19:38:40 - INFO - gensim.topic_coherence.text_analysis -   accumulator serialized\n",
      "03/13/2023 19:38:40 - INFO - gensim.topic_coherence.text_analysis -   accumulator serialized\n",
      "03/13/2023 19:38:40 - INFO - gensim.topic_coherence.text_analysis -   accumulator serialized\n",
      "03/13/2023 19:38:40 - INFO - gensim.topic_coherence.text_analysis -   accumulator serialized\n",
      "03/13/2023 19:38:40 - INFO - gensim.topic_coherence.text_analysis -   accumulator serialized\n",
      "03/13/2023 19:38:53 - INFO - gensim.topic_coherence.text_analysis -   serializing accumulator to return to master...\n",
      "03/13/2023 19:38:53 - INFO - gensim.topic_coherence.text_analysis -   accumulator serialized\n",
      "03/13/2023 19:38:53 - INFO - gensim.topic_coherence.text_analysis -   7 accumulators retrieved from output queue\n",
      "03/13/2023 19:38:53 - INFO - gensim.topic_coherence.text_analysis -   accumulated word occurrence stats for 907423 virtual documents\n",
      "03/13/2023 19:38:54 - INFO - gensim.topic_coherence.probability_estimation -   using ParallelWordOccurrenceAccumulator<processes=7, batch_size=64> to estimate probabilities from sliding windows\n",
      "03/13/2023 19:38:54 - INFO - gensim.topic_coherence.text_analysis -   1 batches submitted to accumulate stats from 64 documents (909329 virtual)\n",
      "03/13/2023 19:38:54 - INFO - gensim.topic_coherence.text_analysis -   serializing accumulator to return to master...\n",
      "03/13/2023 19:38:54 - INFO - gensim.topic_coherence.text_analysis -   serializing accumulator to return to master...\n",
      "03/13/2023 19:38:54 - INFO - gensim.topic_coherence.text_analysis -   serializing accumulator to return to master...\n",
      "03/13/2023 19:38:54 - INFO - gensim.topic_coherence.text_analysis -   serializing accumulator to return to master...\n",
      "03/13/2023 19:38:54 - INFO - gensim.topic_coherence.text_analysis -   serializing accumulator to return to master...\n",
      "03/13/2023 19:38:54 - INFO - gensim.topic_coherence.text_analysis -   serializing accumulator to return to master...\n",
      "03/13/2023 19:38:54 - INFO - gensim.topic_coherence.text_analysis -   accumulator serialized\n",
      "03/13/2023 19:38:54 - INFO - gensim.topic_coherence.text_analysis -   accumulator serialized\n",
      "03/13/2023 19:38:54 - INFO - gensim.topic_coherence.text_analysis -   accumulator serialized\n",
      "03/13/2023 19:38:54 - INFO - gensim.topic_coherence.text_analysis -   accumulator serialized\n",
      "03/13/2023 19:38:54 - INFO - gensim.topic_coherence.text_analysis -   accumulator serialized\n",
      "03/13/2023 19:38:54 - INFO - gensim.topic_coherence.text_analysis -   accumulator serialized\n",
      "03/13/2023 19:39:01 - INFO - gensim.topic_coherence.text_analysis -   serializing accumulator to return to master...\n",
      "03/13/2023 19:39:01 - INFO - gensim.topic_coherence.text_analysis -   accumulator serialized\n",
      "03/13/2023 19:39:01 - INFO - gensim.topic_coherence.text_analysis -   7 accumulators retrieved from output queue\n",
      "03/13/2023 19:39:01 - INFO - gensim.topic_coherence.text_analysis -   accumulated word occurrence stats for 909329 virtual documents\n"
     ]
    },
    {
     "name": "stdout",
     "output_type": "stream",
     "text": [
      "td: 0.84 npmi: 0.18940944324141026 cv: 0.7933668809362926\n",
      "Topics: {0: [('game', 0.015247659640576429), ('hockey', 0.013251763198541159), ('team', 0.013024508728642921), ('nhl', 0.010785183289332758), ('games', 0.010173310325519701), ('players', 0.00957612857144526), ('season', 0.009353601202036594), ('espn', 0.00911367234247027), ('rangers', 0.008323159859658001), ('year', 0.007848555065953822)], 1: [('sale', 0.00836989363438884), ('like', 0.005752914828902887), ('radio', 0.005634776599399464), ('shipping', 0.0055941685116472056), ('new', 0.005422619286757176), ('email', 0.005304893864012075), ('used', 0.0052912636235947), ('condition', 0.005101967831389591), ('price', 0.005062237150647077), ('thanks', 0.004851988479479094)], 2: [('israel', 0.024249082378451317), ('jews', 0.02409171066131679), ('israeli', 0.020859671919595233), ('jewish', 0.017948582695496557), ('arab', 0.015530227319077309), ('arabs', 0.014867354871910375), ('muslims', 0.01147274336474345), ('islam', 0.009265569285241495), ('palestinian', 0.008232108377110593), ('islamic', 0.007046755694411863)], 3: [('drive', 0.01276249392893043), ('scsi', 0.01207157930286662), ('ide', 0.009776665954111866), ('modem', 0.00825288046396843), ('simms', 0.007538807080418627), ('disk', 0.007425386512254141), ('mac', 0.007352961769596736), ('controller', 0.0068890879629850315), ('motherboard', 0.006488880858726284), ('card', 0.005812159583244149)], 4: [('fbi', 0.0085718525874178), ('batf', 0.008544079811117508), ('koresh', 0.0074512138755676), ('people', 0.00692597676292326), ('gun', 0.006672253527130812), ('government', 0.006002177673344356), ('dont', 0.005422265805809512), ('guns', 0.0050847297482411605), ('waco', 0.00495884242894898), ('weapons', 0.004444806588926993)], 5: [('article', 0.008189096787117751), ('people', 0.007162019125395192), ('think', 0.006364880024848994), ('dont', 0.006052336680280914), ('morality', 0.00596771027873711), ('objective', 0.005618457223094021), ('just', 0.005517689488999511), ('believe', 0.005103658216708246), ('like', 0.0049480891254200495), ('evidence', 0.004565614167707066)], 6: [('windows', 0.01244875431461759), ('file', 0.010585120100404593), ('dos', 0.009545943912303352), ('files', 0.008696634825380018), ('program', 0.008219939921340307), ('ftp', 0.00796120237730895), ('3d', 0.007138623381730141), ('software', 0.0070072936812860045), ('gif', 0.00659434023980825), ('thanks', 0.006296595852465343)], 7: [('david', 0.016523343799921195), ('dave', 0.014673937054482868), ('steve', 0.012745916380104283), ('michael', 0.011117453892407404), ('john', 0.009248098127245015), ('bob', 0.00917764382609596), ('frank', 0.006753557524981297), ('think', 0.0066871477597763304), ('jim', 0.006084427078310656), ('james', 0.006046575718591608)], 8: [('encryption', 0.020738109788782908), ('clipper', 0.018543441049210872), ('key', 0.015134649882585775), ('nsa', 0.014948466461951072), ('escrow', 0.013536360618785154), ('chip', 0.012460028813654551), ('keys', 0.010288504188923542), ('crypto', 0.009107581583840696), ('government', 0.008709425096082845), ('algorithm', 0.008045531509587976)], 9: [('car', 0.01703105144430967), ('bike', 0.01597098786923476), ('cars', 0.008551997181890706), ('bikes', 0.008423276485603795), ('bmw', 0.00808501437539435), ('ride', 0.007855896782555343), ('engine', 0.007746171763183903), ('just', 0.006601549641774242), ('ford', 0.005987621327640667), ('miles', 0.005882942189413124)], 10: [('end', 0.9415832998144935), ('begin', 0.05841670018550641), ('', 1e-05), ('', 1e-05), ('', 1e-05), ('', 1e-05), ('', 1e-05), ('', 1e-05), ('', 1e-05), ('', 1e-05)], 11: [('space', 0.016660506543778594), ('orbit', 0.012801439541890062), ('shuttle', 0.011547281895350927), ('spacecraft', 0.01108726517289706), ('moon', 0.010756465644362603), ('nasa', 0.010116351425081238), ('lunar', 0.009065336602455601), ('launch', 0.008254579326229208), ('mission', 0.00705549060584316), ('solar', 0.0068695141800269805)], 12: [('window', 0.01264953240778093), ('mouse', 0.012472380607923397), ('motif', 0.012082320555308203), ('printer', 0.01180776443673861), ('xterm', 0.009802659945188837), ('x11r5', 0.009216187002652495), ('fonts', 0.009110531046130362), ('font', 0.008900619987195883), ('widget', 0.008418616114606552), ('keyboard', 0.008409246583557387)], 13: [('disease', 0.010171931823946063), ('msg', 0.009449149288861645), ('drug', 0.008501819826427266), ('patients', 0.008368231743381497), ('medical', 0.008135060765286832), ('doctor', 0.007936900566803861), ('cancer', 0.007780893351310819), ('drugs', 0.006712749855264524), ('health', 0.006251171902816889), ('infection', 0.006179367993660409)], 14: [('god', 0.015791658803523498), ('jesus', 0.011333492538303949), ('bible', 0.00840036878086402), ('christian', 0.007942392921754525), ('church', 0.007921039982201155), ('christians', 0.007769678780012521), ('christ', 0.007454732279977734), ('homosexual', 0.0069211838801087324), ('people', 0.006600032208017937), ('religion', 0.006030575129667199)], 15: [('card', 0.025284040194888547), ('monitor', 0.021617103760536455), ('vga', 0.014111426488743336), ('video', 0.012947113355342621), ('color', 0.012103130759012988), ('drivers', 0.010699616171625098), ('cards', 0.009328968235899394), ('windows', 0.008848842039157543), ('monitors', 0.008650627819580857), ('colors', 0.008568302982265715)], 16: [('email', 0.010788561307475936), ('thanks', 0.009960753165231094), ('list', 0.006997740606704621), ('know', 0.006714559323617213), ('mail', 0.006652459684307322), ('group', 0.006297806458692919), ('address', 0.006294833266705239), ('newsgroup', 0.005916442345108386), ('like', 0.0058358876113452016), ('send', 0.0057544637747128)], 17: [('deleted', 0.054291931091339674), ('stuff', 0.018902990317726735), ('just', 0.005232958573899867), ('faith', 0.005163433615507512), ('god', 0.005101118503596383), ('dont', 0.0047618548000283745), ('people', 0.004219184033152131), ('know', 0.004122350286240913), ('think', 0.0040405377457251946), ('say', 0.0039019702492373285)], 18: [('armenian', 0.05264823840876362), ('armenians', 0.0487998220138746), ('turkish', 0.02639918774623648), ('armenia', 0.020919822671793768), ('azerbaijan', 0.01659204893143156), ('turks', 0.015251398855523764), ('genocide', 0.014697372162030858), ('serdar', 0.014093839732973783), ('turkey', 0.013988298297282936), ('argic', 0.013101367978628866)], 19: [('just', 0.010974665723227075), ('thanks', 0.009675706429654008), ('think', 0.008874694362951373), ('like', 0.008548282718764956), ('try', 0.008014191124870385), ('time', 0.007844909291668617), ('dont', 0.007772327204376183), ('know', 0.007643335956242373), ('im', 0.00646348189689157), ('does', 0.006451742541110932)]}\n"
     ]
    }
   ],
   "source": [
    "td_score, cv_score, npmi_score = tm.evaluate()\n",
    "\n",
    "print(f'td: {td_score} npmi: {npmi_score} cv: {cv_score}')\n",
    "\n",
    "topics = tm.get_topics()\n",
    "print(f'Topics: {topics}')"
   ]
  },
  {
   "cell_type": "code",
   "execution_count": null,
   "metadata": {},
   "outputs": [],
   "source": []
  }
 ],
 "metadata": {
  "kernelspec": {
   "display_name": ".raymond",
   "language": "python",
   "name": "python3"
  },
  "language_info": {
   "codemirror_mode": {
    "name": "ipython",
    "version": 3
   },
   "file_extension": ".py",
   "mimetype": "text/x-python",
   "name": "python",
   "nbconvert_exporter": "python",
   "pygments_lexer": "ipython3",
   "version": "3.8.10"
  },
  "orig_nbformat": 4
 },
 "nbformat": 4,
 "nbformat_minor": 2
}
