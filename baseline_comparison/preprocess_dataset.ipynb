{
 "cells": [
  {
   "cell_type": "code",
   "execution_count": 65,
   "metadata": {},
   "outputs": [],
   "source": [
    "# Adapt the datasets, to make sure they can be initialized as a Dataset instance from OCTIS\n",
    "import pandas as pd\n",
    "import numpy as np\n",
    "import re\n",
    "import nltk\n",
    "from octis.dataset.dataset import Dataset\n"
   ]
  },
  {
   "cell_type": "code",
   "execution_count": 66,
   "metadata": {},
   "outputs": [],
   "source": [
    "import pandas as pd\n",
    "#data = pd.read_csv('../resources/20news_prep.txt',delimiter = \"\\t\", header=None)\n",
    "data = pd.read_csv('../resources/dbpedia_sample_abstract_20k_prep.txt',delimiter = \"\\t\", header=None)\n",
    "#data = pd.read_csv('../resources/STTM/GoogleNews.txt',delimiter = \"\\t\", header=None)\n",
    "\n"
   ]
  },
  {
   "cell_type": "code",
   "execution_count": 67,
   "metadata": {},
   "outputs": [],
   "source": [
    "data['1'] = 'train'"
   ]
  },
  {
   "cell_type": "code",
   "execution_count": 68,
   "metadata": {},
   "outputs": [],
   "source": [
    "#data.to_csv('resources_octis/20news/corpus.tsv',  sep=\"\\t\", index=False, header=False)\n",
    "data.to_csv('resources_octis/dbpedia/corpus.tsv',  sep=\"\\t\", index=False, header=False)\n",
    "#data.to_csv('resources_octis/google_news/corpus.tsv',  sep=\"\\t\", index=False, header=False)\n",
    "\n",
    "\n"
   ]
  },
  {
   "cell_type": "code",
   "execution_count": 69,
   "metadata": {},
   "outputs": [],
   "source": [
    "\n",
    "#find unique terms  in list of strings\n",
    "unique_terms = []\n",
    "for i in range(len(data[0].tolist())):\n",
    "    unique_terms += data[0][i].split()\n",
    "unique_terms = list(set(unique_terms))\n"
   ]
  },
  {
   "cell_type": "code",
   "execution_count": 70,
   "metadata": {},
   "outputs": [],
   "source": [
    "#with open('resources_octis/20news/vocab.txt', 'w') as f:\n",
    "with open('resources_octis/dbpedia/vocab.txt', 'w') as f:\n",
    "#with open('resources_octis/google_news/vocab.txt', 'w') as f:\n",
    "    for line in unique_terms:\n",
    "        f.write(f\"{line}\\n\")"
   ]
  },
  {
   "cell_type": "code",
   "execution_count": 71,
   "metadata": {},
   "outputs": [
    {
     "name": "stderr",
     "output_type": "stream",
     "text": [
      "/mnt/felipe/.raymond/lib/python3.8/site-packages/octis/dataset/dataset.py:330: FutureWarning: The frame.append method is deprecated and will be removed from pandas in a future version. Use pandas.concat instead.\n",
      "  final_df = df[df[1] == 'train'].append(df[df[1] == 'val'])\n",
      "/mnt/felipe/.raymond/lib/python3.8/site-packages/octis/dataset/dataset.py:331: FutureWarning: The frame.append method is deprecated and will be removed from pandas in a future version. Use pandas.concat instead.\n",
      "  final_df = final_df.append(df[df[1] == 'test'])\n"
     ]
    }
   ],
   "source": [
    "\n",
    "dataset = Dataset()\n",
    "\n",
    "#dataset.load_custom_dataset_from_folder(\"resources_octis/20news\")\n",
    "dataset.load_custom_dataset_from_folder(\"resources_octis/dbpedia\")\n",
    "#dataset.load_custom_dataset_from_folder(\"resources_octis/google_news\")\n",
    "\n"
   ]
  }
 ],
 "metadata": {
  "kernelspec": {
   "display_name": ".raymond",
   "language": "python",
   "name": "python3"
  },
  "language_info": {
   "codemirror_mode": {
    "name": "ipython",
    "version": 3
   },
   "file_extension": ".py",
   "mimetype": "text/x-python",
   "name": "python",
   "nbconvert_exporter": "python",
   "pygments_lexer": "ipython3",
   "version": "3.8.10"
  },
  "orig_nbformat": 4
 },
 "nbformat": 4,
 "nbformat_minor": 2
}
