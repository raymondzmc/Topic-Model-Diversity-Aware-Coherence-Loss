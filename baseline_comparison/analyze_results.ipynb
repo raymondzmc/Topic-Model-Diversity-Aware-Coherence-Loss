{
 "cells": [
  {
   "cell_type": "code",
   "execution_count": 27,
   "metadata": {},
   "outputs": [],
   "source": [
    "import pandas as pd\n",
    "import pickle"
   ]
  },
  {
   "cell_type": "code",
   "execution_count": 28,
   "metadata": {},
   "outputs": [],
   "source": [
    "#pkl_file = '/mnt/felipe/semantic-aware-contextualized-topic-models/baseline_comparison/results/5_dimensions_UMAP/topicx_20news_NTM_10_ntopics_[25, 50, 75, 100, 150]_embedding_all-mpnet-base-v2.pkl'\n",
    "pkl_file = '/mnt/felipe/semantic-aware-contextualized-topic-models/baseline_comparison/results/5_dimensions_UMAP/topicx_dbpedia_NTM_10_ntopics_[25, 50, 75, 100, 150]_embedding_all-mpnet-base-v2.pkl'\n",
    "#pkl_file = '/mnt/felipe/semantic-aware-contextualized-topic-models/baseline_comparison/results/5_dimensions_UMAP/topicx_google_news_NTM_10_ntopics_[25, 50, 75, 100, 150]_embedding_all-mpnet-base-v2.pkl' \n",
    "with open(pkl_file, 'rb') as f:\n",
    "    results = pickle.load(f)\n",
    "\n",
    "    "
   ]
  },
  {
   "cell_type": "code",
   "execution_count": 29,
   "metadata": {},
   "outputs": [
    {
     "data": {
      "text/html": [
       "<div>\n",
       "<style scoped>\n",
       "    .dataframe tbody tr th:only-of-type {\n",
       "        vertical-align: middle;\n",
       "    }\n",
       "\n",
       "    .dataframe tbody tr th {\n",
       "        vertical-align: top;\n",
       "    }\n",
       "\n",
       "    .dataframe thead th {\n",
       "        text-align: right;\n",
       "    }\n",
       "</style>\n",
       "<table border=\"1\" class=\"dataframe\">\n",
       "  <thead>\n",
       "    <tr style=\"text-align: right;\">\n",
       "      <th></th>\n",
       "      <th>npmi_score</th>\n",
       "      <th>we_score</th>\n",
       "      <th>irbo_score</th>\n",
       "      <th>td_score</th>\n",
       "    </tr>\n",
       "    <tr>\n",
       "      <th>num_topics</th>\n",
       "      <th></th>\n",
       "      <th></th>\n",
       "      <th></th>\n",
       "      <th></th>\n",
       "    </tr>\n",
       "  </thead>\n",
       "  <tbody>\n",
       "    <tr>\n",
       "      <th>25</th>\n",
       "      <td>0.184833</td>\n",
       "      <td>0.205439</td>\n",
       "      <td>0.972140</td>\n",
       "      <td>0.782800</td>\n",
       "    </tr>\n",
       "    <tr>\n",
       "      <th>50</th>\n",
       "      <td>0.186433</td>\n",
       "      <td>0.221784</td>\n",
       "      <td>0.979674</td>\n",
       "      <td>0.760000</td>\n",
       "    </tr>\n",
       "    <tr>\n",
       "      <th>75</th>\n",
       "      <td>0.170876</td>\n",
       "      <td>0.219641</td>\n",
       "      <td>0.983762</td>\n",
       "      <td>0.721733</td>\n",
       "    </tr>\n",
       "    <tr>\n",
       "      <th>100</th>\n",
       "      <td>0.159552</td>\n",
       "      <td>0.215779</td>\n",
       "      <td>0.985188</td>\n",
       "      <td>0.678800</td>\n",
       "    </tr>\n",
       "    <tr>\n",
       "      <th>150</th>\n",
       "      <td>0.147068</td>\n",
       "      <td>0.206621</td>\n",
       "      <td>0.985913</td>\n",
       "      <td>0.593533</td>\n",
       "    </tr>\n",
       "  </tbody>\n",
       "</table>\n",
       "</div>"
      ],
      "text/plain": [
       "            npmi_score  we_score  irbo_score  td_score\n",
       "num_topics                                            \n",
       "25            0.184833  0.205439    0.972140  0.782800\n",
       "50            0.186433  0.221784    0.979674  0.760000\n",
       "75            0.170876  0.219641    0.983762  0.721733\n",
       "100           0.159552  0.215779    0.985188  0.678800\n",
       "150           0.147068  0.206621    0.985913  0.593533"
      ]
     },
     "execution_count": 29,
     "metadata": {},
     "output_type": "execute_result"
    }
   ],
   "source": [
    "pd.DataFrame(results).groupby('num_topics').mean()"
   ]
  },
  {
   "cell_type": "code",
   "execution_count": 30,
   "metadata": {},
   "outputs": [
    {
     "name": "stdout",
     "output_type": "stream",
     "text": [
      "npmi_score     0.169752\n",
      "we_score       0.213853\n",
      "irbo_score     0.981335\n",
      "td_score       0.707373\n",
      "num_topics    80.000000\n",
      "dtype: float64\n"
     ]
    }
   ],
   "source": [
    "print(pd.DataFrame(results).mean())"
   ]
  },
  {
   "cell_type": "code",
   "execution_count": 31,
   "metadata": {},
   "outputs": [
    {
     "data": {
      "text/html": [
       "<div>\n",
       "<style scoped>\n",
       "    .dataframe tbody tr th:only-of-type {\n",
       "        vertical-align: middle;\n",
       "    }\n",
       "\n",
       "    .dataframe tbody tr th {\n",
       "        vertical-align: top;\n",
       "    }\n",
       "\n",
       "    .dataframe thead th {\n",
       "        text-align: right;\n",
       "    }\n",
       "</style>\n",
       "<table border=\"1\" class=\"dataframe\">\n",
       "  <thead>\n",
       "    <tr style=\"text-align: right;\">\n",
       "      <th></th>\n",
       "      <th>npmi_score</th>\n",
       "      <th>we_score</th>\n",
       "      <th>irbo_score</th>\n",
       "      <th>td_score</th>\n",
       "      <th>num_topics</th>\n",
       "    </tr>\n",
       "  </thead>\n",
       "  <tbody>\n",
       "    <tr>\n",
       "      <th>count</th>\n",
       "      <td>50.000000</td>\n",
       "      <td>50.000000</td>\n",
       "      <td>50.000000</td>\n",
       "      <td>50.000000</td>\n",
       "      <td>50.000000</td>\n",
       "    </tr>\n",
       "    <tr>\n",
       "      <th>mean</th>\n",
       "      <td>0.169752</td>\n",
       "      <td>0.213853</td>\n",
       "      <td>0.981335</td>\n",
       "      <td>0.707373</td>\n",
       "      <td>80.000000</td>\n",
       "    </tr>\n",
       "    <tr>\n",
       "      <th>std</th>\n",
       "      <td>0.016662</td>\n",
       "      <td>0.007998</td>\n",
       "      <td>0.005337</td>\n",
       "      <td>0.068467</td>\n",
       "      <td>43.448304</td>\n",
       "    </tr>\n",
       "    <tr>\n",
       "      <th>min</th>\n",
       "      <td>0.143217</td>\n",
       "      <td>0.193515</td>\n",
       "      <td>0.965912</td>\n",
       "      <td>0.583333</td>\n",
       "      <td>25.000000</td>\n",
       "    </tr>\n",
       "    <tr>\n",
       "      <th>25%</th>\n",
       "      <td>0.155895</td>\n",
       "      <td>0.208964</td>\n",
       "      <td>0.978909</td>\n",
       "      <td>0.673250</td>\n",
       "      <td>50.000000</td>\n",
       "    </tr>\n",
       "    <tr>\n",
       "      <th>50%</th>\n",
       "      <td>0.170532</td>\n",
       "      <td>0.213600</td>\n",
       "      <td>0.983416</td>\n",
       "      <td>0.722000</td>\n",
       "      <td>75.000000</td>\n",
       "    </tr>\n",
       "    <tr>\n",
       "      <th>75%</th>\n",
       "      <td>0.180367</td>\n",
       "      <td>0.219917</td>\n",
       "      <td>0.985308</td>\n",
       "      <td>0.763500</td>\n",
       "      <td>100.000000</td>\n",
       "    </tr>\n",
       "    <tr>\n",
       "      <th>max</th>\n",
       "      <td>0.207419</td>\n",
       "      <td>0.226746</td>\n",
       "      <td>0.986823</td>\n",
       "      <td>0.808000</td>\n",
       "      <td>150.000000</td>\n",
       "    </tr>\n",
       "  </tbody>\n",
       "</table>\n",
       "</div>"
      ],
      "text/plain": [
       "       npmi_score   we_score  irbo_score   td_score  num_topics\n",
       "count   50.000000  50.000000   50.000000  50.000000   50.000000\n",
       "mean     0.169752   0.213853    0.981335   0.707373   80.000000\n",
       "std      0.016662   0.007998    0.005337   0.068467   43.448304\n",
       "min      0.143217   0.193515    0.965912   0.583333   25.000000\n",
       "25%      0.155895   0.208964    0.978909   0.673250   50.000000\n",
       "50%      0.170532   0.213600    0.983416   0.722000   75.000000\n",
       "75%      0.180367   0.219917    0.985308   0.763500  100.000000\n",
       "max      0.207419   0.226746    0.986823   0.808000  150.000000"
      ]
     },
     "execution_count": 31,
     "metadata": {},
     "output_type": "execute_result"
    }
   ],
   "source": [
    "pd.DataFrame(results).describe()"
   ]
  },
  {
   "cell_type": "code",
   "execution_count": null,
   "metadata": {},
   "outputs": [],
   "source": []
  }
 ],
 "metadata": {
  "kernelspec": {
   "display_name": ".raymond",
   "language": "python",
   "name": "python3"
  },
  "language_info": {
   "codemirror_mode": {
    "name": "ipython",
    "version": 3
   },
   "file_extension": ".py",
   "mimetype": "text/x-python",
   "name": "python",
   "nbconvert_exporter": "python",
   "pygments_lexer": "ipython3",
   "version": "3.8.10"
  },
  "orig_nbformat": 4
 },
 "nbformat": 4,
 "nbformat_minor": 2
}
