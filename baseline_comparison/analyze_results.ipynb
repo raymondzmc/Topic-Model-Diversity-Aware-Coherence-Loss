{
 "cells": [
  {
   "cell_type": "code",
   "execution_count": 16,
   "metadata": {},
   "outputs": [],
   "source": [
    "import pandas as pd\n",
    "import pickle"
   ]
  },
  {
   "cell_type": "code",
   "execution_count": 17,
   "metadata": {},
   "outputs": [],
   "source": [
    "#pkl_file = '/mnt/felipe/semantic-aware-contextualized-topic-models/baseline_comparison/results/topicx_20news_NTM_10_ntopics_[25, 50, 75, 100, 150]_embedding_all-mpnet-base-v2.pkl'\n",
    "#pkl_file = '/mnt/felipe/semantic-aware-contextualized-topic-models/baseline_comparison/results/topicx_dbpedia_NTM_10_ntopics_[25, 50, 75, 100, 150]_embedding_all-mpnet-base-v2.pkl'\n",
    "pkl_file = '/mnt/felipe/semantic-aware-contextualized-topic-models/baseline_comparison/results/topicx_google_news_NTM_10_ntopics_[25, 50, 75, 100, 150]_embedding_all-mpnet-base-v2.pkl' \n",
    "with open(pkl_file, 'rb') as f:\n",
    "    results = pickle.load(f)\n",
    "\n",
    "    "
   ]
  },
  {
   "cell_type": "code",
   "execution_count": 18,
   "metadata": {},
   "outputs": [
    {
     "data": {
      "text/html": [
       "<div>\n",
       "<style scoped>\n",
       "    .dataframe tbody tr th:only-of-type {\n",
       "        vertical-align: middle;\n",
       "    }\n",
       "\n",
       "    .dataframe tbody tr th {\n",
       "        vertical-align: top;\n",
       "    }\n",
       "\n",
       "    .dataframe thead th {\n",
       "        text-align: right;\n",
       "    }\n",
       "</style>\n",
       "<table border=\"1\" class=\"dataframe\">\n",
       "  <thead>\n",
       "    <tr style=\"text-align: right;\">\n",
       "      <th></th>\n",
       "      <th>npmi_score</th>\n",
       "      <th>we_score</th>\n",
       "      <th>irbo_score</th>\n",
       "      <th>td_score</th>\n",
       "    </tr>\n",
       "    <tr>\n",
       "      <th>num_topics</th>\n",
       "      <th></th>\n",
       "      <th></th>\n",
       "      <th></th>\n",
       "      <th></th>\n",
       "    </tr>\n",
       "  </thead>\n",
       "  <tbody>\n",
       "    <tr>\n",
       "      <th>25</th>\n",
       "      <td>0.105298</td>\n",
       "      <td>0.173468</td>\n",
       "      <td>0.999767</td>\n",
       "      <td>0.994400</td>\n",
       "    </tr>\n",
       "    <tr>\n",
       "      <th>50</th>\n",
       "      <td>0.237833</td>\n",
       "      <td>0.155705</td>\n",
       "      <td>0.999285</td>\n",
       "      <td>0.973800</td>\n",
       "    </tr>\n",
       "    <tr>\n",
       "      <th>75</th>\n",
       "      <td>0.287381</td>\n",
       "      <td>0.154673</td>\n",
       "      <td>0.998543</td>\n",
       "      <td>0.932000</td>\n",
       "    </tr>\n",
       "    <tr>\n",
       "      <th>100</th>\n",
       "      <td>0.312010</td>\n",
       "      <td>0.155332</td>\n",
       "      <td>0.998450</td>\n",
       "      <td>0.911800</td>\n",
       "    </tr>\n",
       "    <tr>\n",
       "      <th>150</th>\n",
       "      <td>0.319900</td>\n",
       "      <td>0.149876</td>\n",
       "      <td>0.997319</td>\n",
       "      <td>0.814133</td>\n",
       "    </tr>\n",
       "  </tbody>\n",
       "</table>\n",
       "</div>"
      ],
      "text/plain": [
       "            npmi_score  we_score  irbo_score  td_score\n",
       "num_topics                                            \n",
       "25            0.105298  0.173468    0.999767  0.994400\n",
       "50            0.237833  0.155705    0.999285  0.973800\n",
       "75            0.287381  0.154673    0.998543  0.932000\n",
       "100           0.312010  0.155332    0.998450  0.911800\n",
       "150           0.319900  0.149876    0.997319  0.814133"
      ]
     },
     "execution_count": 18,
     "metadata": {},
     "output_type": "execute_result"
    }
   ],
   "source": [
    "pd.DataFrame(results).groupby('num_topics').mean()"
   ]
  },
  {
   "cell_type": "code",
   "execution_count": null,
   "metadata": {},
   "outputs": [],
   "source": []
  }
 ],
 "metadata": {
  "kernelspec": {
   "display_name": ".raymond",
   "language": "python",
   "name": "python3"
  },
  "language_info": {
   "codemirror_mode": {
    "name": "ipython",
    "version": 3
   },
   "file_extension": ".py",
   "mimetype": "text/x-python",
   "name": "python",
   "nbconvert_exporter": "python",
   "pygments_lexer": "ipython3",
   "version": "3.8.10"
  },
  "orig_nbformat": 4
 },
 "nbformat": 4,
 "nbformat_minor": 2
}
